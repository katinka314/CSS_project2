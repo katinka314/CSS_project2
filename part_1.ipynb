{
 "cells": [
  {
   "cell_type": "markdown",
   "metadata": {},
   "source": [
    "### Part 1: Properties of the real-world network of Computational Social Scientists"
   ]
  },
  {
   "cell_type": "code",
   "execution_count": 2,
   "metadata": {},
   "outputs": [],
   "source": [
    "import numpy as np\n",
    "import matplotlib.pyplot as plt\n",
    "import pandas as pd\n",
    "import networkx as nx"
   ]
  },
  {
   "cell_type": "code",
   "execution_count": null,
   "metadata": {},
   "outputs": [],
   "source": [
    "df_A = pd.read_csv(\"data/author_edgelist.csv\")"
   ]
  },
  {
   "cell_type": "markdown",
   "metadata": {},
   "source": [
    "1. Random Network: Let's start by building a Random Network, acting as a baseline (or \"null model\") to understand the Computational Social Scientists Network better."
   ]
  },
  {
   "cell_type": "code",
   "execution_count": null,
   "metadata": {},
   "outputs": [
    {
     "data": {
      "text/plain": [
       "0.0004608281457862164"
      ]
     },
     "execution_count": 4,
     "metadata": {},
     "output_type": "execute_result"
    }
   ],
   "source": [
    "#Calculate the probability (p) as done in Section 3.2, equation (3.2) in Network Science, Albert-Laszlo Barabasi.\n",
    "\n",
    "G = nx.Graph()\n",
    "\n",
    "edges = [(row['author_1'], row['author_2'], row['weight']) for index, row in df_A.iterrows()]\n",
    "\n",
    "G.add_weighted_edges_from(edges)\n",
    "\n",
    "N = G.number_of_nodes()\n",
    "L = G.number_of_edges()\n",
    "\n",
    "p = L / ((N*(N-1))/2)\n",
    "\n",
    "p"
   ]
  },
  {
   "cell_type": "code",
   "execution_count": null,
   "metadata": {},
   "outputs": [
    {
     "data": {
      "text/plain": [
       "<networkx.classes.graph.Graph at 0x168acd3d0>"
      ]
     },
     "execution_count": 5,
     "metadata": {},
     "output_type": "execute_result"
    }
   ],
   "source": [
    "# Setting up a function that creates a random network.\n",
    "\n",
    "def random_network(R,p):\n",
    "    #Start with N isolated nodes.\n",
    "    R = nx.Graph()\n",
    "    R.add_nodes_from(range(N))\n",
    "\n",
    "    #Select a node pair and generate a random number between 0 and 1\n",
    "    for u in range(N):\n",
    "        for v in range(u+1,N):\n",
    "            if np.random.rand() > p: #If the number exceeds p:\n",
    "                R.add_edge(u,v) #connect the selected node pair with a link, otherwise leave them disconnected.\n",
    "    return R\n",
    "\n",
    "##### NEEEDS degree part???\n",
    "random_network(G,p)"
   ]
  }
 ],
 "metadata": {
  "kernelspec": {
   "display_name": "02467CSS",
   "language": "python",
   "name": "python3"
  },
  "language_info": {
   "codemirror_mode": {
    "name": "ipython",
    "version": 3
   },
   "file_extension": ".py",
   "mimetype": "text/x-python",
   "name": "python",
   "nbconvert_exporter": "python",
   "pygments_lexer": "ipython3",
   "version": "3.11.11"
  }
 },
 "nbformat": 4,
 "nbformat_minor": 2
}
